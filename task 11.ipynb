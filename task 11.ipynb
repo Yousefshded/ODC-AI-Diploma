{
 "cells": [
  {
   "cell_type": "code",
   "execution_count": 1,
   "id": "2d6436e8",
   "metadata": {},
   "outputs": [],
   "source": [
    "import pandas as pd"
   ]
  },
  {
   "cell_type": "code",
   "execution_count": 2,
   "id": "6e9543f3",
   "metadata": {},
   "outputs": [],
   "source": [
    "datatxt = pd.read_table('C://Users//youse//Desktop//NEW.txt')"
   ]
  },
  {
   "cell_type": "code",
   "execution_count": 3,
   "id": "a267fa73",
   "metadata": {},
   "outputs": [
    {
     "data": {
      "text/html": [
       "<div>\n",
       "<style scoped>\n",
       "    .dataframe tbody tr th:only-of-type {\n",
       "        vertical-align: middle;\n",
       "    }\n",
       "\n",
       "    .dataframe tbody tr th {\n",
       "        vertical-align: top;\n",
       "    }\n",
       "\n",
       "    .dataframe thead th {\n",
       "        text-align: right;\n",
       "    }\n",
       "</style>\n",
       "<table border=\"1\" class=\"dataframe\">\n",
       "  <thead>\n",
       "    <tr style=\"text-align: right;\">\n",
       "      <th></th>\n",
       "      <th>Ahmed,01060416000,Ahmed@gmail.com</th>\n",
       "    </tr>\n",
       "  </thead>\n",
       "  <tbody>\n",
       "    <tr>\n",
       "      <th>0</th>\n",
       "      <td>Nader,01101256432,Nader@gmail.com</td>\n",
       "    </tr>\n",
       "    <tr>\n",
       "      <th>1</th>\n",
       "      <td>Mahmoud,01511111567,Houda@gmail.com</td>\n",
       "    </tr>\n",
       "  </tbody>\n",
       "</table>\n",
       "</div>"
      ],
      "text/plain": [
       "     Ahmed,01060416000,Ahmed@gmail.com\n",
       "0    Nader,01101256432,Nader@gmail.com\n",
       "1  Mahmoud,01511111567,Houda@gmail.com"
      ]
     },
     "execution_count": 3,
     "metadata": {},
     "output_type": "execute_result"
    }
   ],
   "source": [
    "datatxt.head()"
   ]
  },
  {
   "cell_type": "code",
   "execution_count": 19,
   "id": "eab7bb82",
   "metadata": {},
   "outputs": [],
   "source": [
    "text_to_search='''Ahmed,01060416000,Ahmed@gmail.com\n",
    "Ali,01101256432,Ali@gmail.com\n",
    "Adel,01511111567,Adel@gmail.com\n",
    "'''"
   ]
  },
  {
   "cell_type": "code",
   "execution_count": 21,
   "id": "217877c2",
   "metadata": {},
   "outputs": [
    {
     "name": "stdout",
     "output_type": "stream",
     "text": [
      "<re.Match object; span=(0, 5), match='Ahmed'>\n",
      "<re.Match object; span=(18, 23), match='Ahmed'>\n",
      "<re.Match object; span=(34, 37), match='Ali'>\n",
      "<re.Match object; span=(50, 53), match='Ali'>\n",
      "<re.Match object; span=(64, 68), match='Adel'>\n",
      "<re.Match object; span=(81, 85), match='Adel'>\n"
     ]
    }
   ],
   "source": [
    "pattern=re.compile(\"A\\w+\") \n",
    "matches=pattern.finditer(text_to_search) \n",
    "for i in matches:\n",
    "    print(i)"
   ]
  },
  {
   "cell_type": "code",
   "execution_count": 22,
   "id": "e4693b56",
   "metadata": {},
   "outputs": [
    {
     "name": "stdout",
     "output_type": "stream",
     "text": [
      "<re.Match object; span=(6, 17), match='01060416000'>\n",
      "<re.Match object; span=(38, 49), match='01101256432'>\n",
      "<re.Match object; span=(69, 80), match='01511111567'>\n"
     ]
    }
   ],
   "source": [
    "pattern=re.compile(\"\\d{11}\") \n",
    "matches=pattern.finditer(text_to_search) \n",
    "for i in matches:\n",
    "    print(i)"
   ]
  },
  {
   "cell_type": "code",
   "execution_count": 23,
   "id": "75915845",
   "metadata": {},
   "outputs": [
    {
     "name": "stdout",
     "output_type": "stream",
     "text": [
      "<re.Match object; span=(18, 33), match='Ahmed@gmail.com'>\n",
      "<re.Match object; span=(50, 63), match='Ali@gmail.com'>\n",
      "<re.Match object; span=(81, 95), match='Adel@gmail.com'>\n"
     ]
    }
   ],
   "source": [
    "pattern=re.compile(r'[a-zA-Z0-9-.]+@[a-zA-Z]+\\.[a-zA-Z0-9-.]+') \n",
    "matches=pattern.finditer(text_to_search) \n",
    "for i in matches:\n",
    "    print(i)"
   ]
  },
  {
   "cell_type": "code",
   "execution_count": null,
   "id": "a534d779",
   "metadata": {},
   "outputs": [],
   "source": []
  }
 ],
 "metadata": {
  "kernelspec": {
   "display_name": "Python 3 (ipykernel)",
   "language": "python",
   "name": "python3"
  },
  "language_info": {
   "codemirror_mode": {
    "name": "ipython",
    "version": 3
   },
   "file_extension": ".py",
   "mimetype": "text/x-python",
   "name": "python",
   "nbconvert_exporter": "python",
   "pygments_lexer": "ipython3",
   "version": "3.9.7"
  }
 },
 "nbformat": 4,
 "nbformat_minor": 5
}
