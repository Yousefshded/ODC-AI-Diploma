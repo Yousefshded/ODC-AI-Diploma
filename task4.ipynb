{
 "cells": [
  {
   "cell_type": "markdown",
   "id": "3be5c275",
   "metadata": {},
   "source": [
    "# what is diamond inheritance and delegation inheritance? "
   ]
  },
  {
   "cell_type": "markdown",
   "id": "75ad86e4",
   "metadata": {},
   "source": [
    "Delegation is an alternative to inheritance for reusing code between multiple classes.\n",
    "uses inheritance IS-A relationship for reuse; Delegation uses a HAS-A reference relationship to do the same thing.\n",
    "Inheritance and delegation have the same type of relationship"
   ]
  },
  {
   "cell_type": "markdown",
   "id": "454ed27e",
   "metadata": {},
   "source": [
    "# what is modified harvard arch?"
   ]
  },
  {
   "cell_type": "markdown",
   "id": "221e64c4",
   "metadata": {},
   "source": [
    "The modified Harvard architecture is a variation of the Harvard computer architecture that, unlike the pure Harvard architecture, allows the contents of the instruction memory to be accessed as data. Most modern computers that are documented as Harvard architecture are, in fact, modified Harvard architecture."
   ]
  },
  {
   "cell_type": "markdown",
   "id": "8d0047d3",
   "metadata": {},
   "source": [
    "# types of platforms and ex ?"
   ]
  },
  {
   "cell_type": "markdown",
   "id": "ac883ce0",
   "metadata": {},
   "source": [
    "Exchange Platforms :\n",
    "Services marketplace: a service\n",
    "Product marketplace: a physical product\n",
    "Payments platform: monetary payment\n",
    "Investment platform: an investment/financial instrument (i.e., money exchanged for a financial instrument, be it equity or a loan, etc.)\n",
    "Social networking platform: a double-opt-in (friending) mode of social interaction\n",
    "Communication platform: 1: 1 direct social communication (e.g., messaging)\n",
    "Social gaming platform: a gaming interaction involving multiple users, either competing or cooperating\n",
    "\n",
    "\n",
    "\n",
    "Maker Platforms :\n",
    "Content platform: a piece of content (a text article, photo, video, etc.)\n",
    "Development platform: a software program"
   ]
  },
  {
   "cell_type": "markdown",
   "id": "029d74b3",
   "metadata": {},
   "source": [
    "# what is  Virtual Machine ?"
   ]
  },
  {
   "cell_type": "markdown",
   "id": "5d3ddb1b",
   "metadata": {},
   "source": [
    "A Virtual Machine (VM) is a compute resource that uses software instead of a physical computer to run programs and deploy apps. One or more virtual “guest” machines run on a physical “host” machine.  Each virtual machine runs its own operating system and functions separately from the other VMs, even when they are all running on the same host\n",
    "\n",
    "\n",
    "\n",
    "\n",
    "public cloud services are using virtual machines to provide virtual application resources to multiple users at once, for even more cost efficient and flexible compute.  \n",
    "\n",
    "\n",
    "virtual machines can perform specific tasks considered too risky to carry out in a host environment, such as accessing virus-infected data or testing operating systems. Since the virtual machine is separated from the rest of the system, the software inside the virtual machine cannot tamper with the host compute"
   ]
  },
  {
   "cell_type": "markdown",
   "id": "676b69ba",
   "metadata": {},
   "source": [
    "# what is v model ?"
   ]
  },
  {
   "cell_type": "markdown",
   "id": "ef2cda58",
   "metadata": {},
   "source": [
    "V-Model also referred to as the Verification and Validation Model. In this, each phase of SDLC must complete before the next phase starts. It follows a sequential design process same as the waterfall model. Testing of the device is planned in parallel with a corresponding stage of development.\n",
    "\n",
    "Verification: It involves a static analysis method (review) done without executing code. It is the process of evaluation of the product development process to find whether specified requirements meet.\n",
    "\n",
    "Validation: It involves dynamic analysis method (functional, non-functional), testing is done by executing code. Validation is the process to classify the software after the completion of the development process to determine whether the software meets the customer expectations and requirements.\n",
    "\n",
    "When the requirement is well defined and not ambiguous.\n",
    "The V-shaped model should be used for small to medium-sized projects where requirements are clearly defined and fixed.\n",
    "The V-shaped model should be chosen when sample technical resources are available with essential technical expertise."
   ]
  },
  {
   "cell_type": "markdown",
   "id": "6a8bfbcb",
   "metadata": {},
   "source": [
    "# what is devops and devops tools ?"
   ]
  },
  {
   "cell_type": "markdown",
   "id": "368bdd3e",
   "metadata": {},
   "source": [
    "DevOps is a set of practices, tools, and a cultural philosophy that automate and integrate the processes between software development and IT teams. It emphasizes team empowerment, cross-team communication and collaboration, and technology automation.\n",
    "\n",
    "git / docer /nagios /puppet labs ."
   ]
  },
  {
   "cell_type": "markdown",
   "id": "ea60bbe8",
   "metadata": {},
   "source": [
    "# realtional database and nonrealtional database"
   ]
  },
  {
   "cell_type": "markdown",
   "id": "aebd12e9",
   "metadata": {},
   "source": [
    "A relational database is one that stores data in tables. The relationship between each data point is clear and searching through those relationships is relatively easy. The relationship between tables and field types is called a schema \n",
    "used : SQL Server , MySQL\n",
    "\n",
    "Non-relational databases are becoming more popular as more and more businesses begin to leverage big data for analysis and reporting. Since critical data doesn’t always fit well into a pre-defined schema, NoSQL databases allow more flexibility.\n",
    "Non-relational databases are also known as NoSQL databases which stands for “Not Only SQL.” Where relational databases only use SQL, non-relational databases can use other types of query language.\n",
    "\n",
    "There are four different types of NoSQL databases.\n",
    "\n",
    "Document-oriented databases – Also known as a document store, this database is designed for storing, retrieving and managing document-oriented information. Document databases usually pair each key with a complex data structure (called a document).\n",
    "Key-Value Stores – This is a database that uses different keys where each key is associated with only one value in a collection. Think of it as a dictionary. This is one of the simplest database types among NoSQL databases.\n",
    "Wide-Column Stores – this database uses tables, rows, and columns, but unlike a relational database, the names and format of the columns can vary from row to row in the same table.\n",
    "Graph Stores – A graph database uses graph structures for semantic queries with nodes, edges, and properties to represent and store data"
   ]
  },
  {
   "cell_type": "markdown",
   "id": "dabffce8",
   "metadata": {},
   "source": [
    "# what are Black Box Testing and white Box Testing ?"
   ]
  },
  {
   "cell_type": "markdown",
   "id": "1f342c8a",
   "metadata": {},
   "source": [
    "Black Box Testing\t/////////////White Box Testing.\n",
    "\n",
    "The Black Box Test is a test that only considers the external behavior of the system; the internal workings of the software is not taken into account.//////////////\tThe White Box Test is a method used to test a software taking into consideration its internal functioning.\n",
    "\n",
    "It is carried out by testers.\t///////// It is carried out by software developers.\n",
    "\n",
    "This method is used in System Testing or Acceptance Testing.\t/////////This method is used in Unit Testing or Integration Testing.\n",
    "\n",
    "It is the least time consuming.\tIt is most time consuming.//////\n",
    "It is the behavior testing of the software.\tIt is the logic testing of the software.\n",
    "\n",
    "It is also known as data-driven testing, functional testing, and closed box testing.////////\tIt is also known as clear box testing, code-based testing, structural testing, and transparent testing.\n",
    "\n",
    "Black Box Test is not considered for algorithm testing.\t////////////White Box Test is well suitable for algorithm testing.\n"
   ]
  },
  {
   "cell_type": "code",
   "execution_count": null,
   "id": "9d1135d1",
   "metadata": {},
   "outputs": [],
   "source": []
  }
 ],
 "metadata": {
  "kernelspec": {
   "display_name": "Python 3 (ipykernel)",
   "language": "python",
   "name": "python3"
  },
  "language_info": {
   "codemirror_mode": {
    "name": "ipython",
    "version": 3
   },
   "file_extension": ".py",
   "mimetype": "text/x-python",
   "name": "python",
   "nbconvert_exporter": "python",
   "pygments_lexer": "ipython3",
   "version": "3.9.7"
  }
 },
 "nbformat": 4,
 "nbformat_minor": 5
}
