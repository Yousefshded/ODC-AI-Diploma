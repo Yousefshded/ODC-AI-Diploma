{
 "cells": [
  {
   "cell_type": "markdown",
   "id": "bb0718ca",
   "metadata": {},
   "source": [
    "# what is central limit theory ?"
   ]
  },
  {
   "cell_type": "markdown",
   "id": "ebe34889",
   "metadata": {},
   "source": [
    "Central Limit Theorem (CLT) Definition\n",
    "The Central Limit Theorem (CLT) is a statistical theory that posits that the mean and standard deviation derived from a sample, will accurately approximate the mean and standard deviation of the population the sample was taken from as the size of the sample increases. The minimum number of members of a population needed in order for a sample to adequately represent the population it was pulled from, is 30 according to the central limit theorem.\n",
    "\n",
    " the central limit theorem (CLT) establishes that, in many situations, when independent random variables are summed up, their properly normalized sum tends toward a normal distribution even if the original variables themselves are not normally distributed.\n",
    "\n",
    "The theorem is a key concept in probability theory because it implies that probabilistic and statistical methods that work for normal distributions can be applicable to many problems involving other types of distributions.\n",
    "The central limit theorem is useful when analyzing large data sets because it allows one to assume that the sampling distribution of the mean will be normally-distributed in most cases. This allows for easier statistical analysis and inference\n",
    "\n",
    "\n",
    "\n",
    "Central limit theorem The central limit theorem is the basis for how normal distributions work in statistics. Central Limit Theorem Definition The Central Limit Theorem (CLT) states that the distribution of a sample mean that approximates the normal distribution, as the sample size becomes larger, assuming that all the samples are similar, and no matter what the shape of the population distribution.\n",
    "\n",
    "The central limit theorem shows the following:\n",
    "\n",
    "Law of Large Numbers: As you increase sample size (or the number of samples), then the sample mean will approach the population mean. With multiple large samples, the sampling distribution of the mean is normally distributed, helps in analyzing data\n"
   ]
  },
  {
   "cell_type": "markdown",
   "id": "47dba638",
   "metadata": {},
   "source": [
    "# Which machine learning algorithm(s) is best for nonlinear regression with a limited number of data?"
   ]
  },
  {
   "cell_type": "markdown",
   "id": "d3bad472",
   "metadata": {},
   "source": [
    " AWS removes the complexity of building, training, and deploying machine learning models at any scale. It depends on the problem. "
   ]
  },
  {
   "cell_type": "markdown",
   "id": "7d8d4119",
   "metadata": {},
   "source": [
    "K Nearest Neighbor (KNN) is a very simple, easy-to-understand, and versatile machine learning algorithm. It’s used in many different areas, such as handwriting detection, image recognition , and video recognition. KNN is most useful when labeled data is too expensive or impossible to obtain , and it can achieve high accuracy in a wide variety of prediction-type problems."
   ]
  },
  {
   "cell_type": "markdown",
   "id": "9b21125e",
   "metadata": {},
   "source": [
    "# why we need to convert Different types of distribution to Normal Distribution ? "
   ]
  },
  {
   "cell_type": "markdown",
   "id": "bd11951e",
   "metadata": {},
   "source": [
    "1-In a normal distribution, data is symmetrically distributed with no skew. When plotted on a graph, the data follows a bell shape, with most values clustering around a central region and tapering off as they go further away from the center. 2- All kinds of variables in natural and social sciences are normally or approximately normally distributed. Height, birth weight, reading ability, job satisfaction 3- The mean, median and mode are exactly the same. 4-The distribution is symmetric about the mean—half the values fall below the mean and half above the mean. 5-The distribution can be described by two values: the mean and the standard deviation."
   ]
  },
  {
   "cell_type": "markdown",
   "id": "52076c2f",
   "metadata": {},
   "source": [
    "# What are types of Data distribution ?"
   ]
  },
  {
   "cell_type": "markdown",
   "id": "0ee65802",
   "metadata": {},
   "source": [
    "A data distribution is a graphical representation of data that was collected from a sample or population. It is used to organize and disseminate large amounts of information in a way that is meaningful and simple for audiences to digest. \n",
    "\n",
    "Discrete Data\n",
    "Discrete data involves variables that have specific values that cannot have values between them. For example, the number of times someone visits their neighbors during the week is a discrete variable. Someone can visit their neighbor 0, 1, 2, 3, or even 10 times during the week. However, someone cannot visit their neighbor 1.65 or 3.09 times. Categorical variables (e.g., genres of music, political parties) are also considered discrete variables because they involve clear categorical boundaries.\n",
    "\n",
    "Discrete Data Distribution\n",
    "There are different types of discrete data distributions that are used specifically for discrete data.\n",
    "\n",
    "Binomial Distribution\n",
    "A binomial distribution is used to represent the frequency of data that involves only two outcomes: passing and failing. Just think that \"bi\" means two and \"nomial\" means names or values. For example, a school district keeps track of students who pass or fail a particular high school course (e.g., AP Statistics). The only outcomes for this study are that the students either pass or fail. It is important to note that the variable in this example is discrete. Students cannot score a value in the middle of passing or failing.\n",
    "\n",
    "\n",
    "Poisson Distribution\n",
    "A Poisson distribution is used to represent the frequency of something occurring during a specific time period. In other words, it counts how many times an event happens. For example, the previously mentioned school district keeps track of how many times students are absent during flu season. Notice that the variables in this example are also discrete. Students during this time period can be absent 0, 1, 2, 3, 4, times etc., but they cannot be absent 2.5, 3.76, or 0.154 times.\n",
    "\n",
    "\n",
    "\n",
    "Continuous Data\n",
    "Continuous data involves variables in which there could be an infinite number of values between a set range of possible values. For example, students can theoretically score an infinite number of final exam grades on a scale of 0 to 100. Someone could score a 90, 90.01, 90.324, 90.993, 89.873, etc. Another example of a continuous variable are things measured in time. A 26-year-old might express their age as 26, 26.25, or 26.2534 depending on their level of specificity.\n",
    "There are also three different types of data distribution based on the distribution of values in the data.\n",
    "\n",
    "Symmetrical Distribution\n",
    "A symmetrical distribution is when the pattern or trend of frequencies on the left and right side of the distribution are the same.\n",
    "\n",
    "\n",
    "\n",
    "\n",
    "Positive Skew: This is when the scores pile up on the lower end of the values with fewer scores at the high end. The side with fewer scores is called the tail and is considered the direction of the skew.Example of positive skew\n",
    "Notice how the side with fewer scores is more spread out and looks like a tail. Since the tail is towards the higher end of the values, it is called a positive skew (i.e., it is skewed right because the tail is pointing to the right).\n",
    "\n",
    "\n",
    "\n",
    "\n",
    "Negative Skew: This is when the scores pile up on the higher end of the values with fewer scores at the low end. \n",
    "\n",
    "Example of a negative skew.\n",
    "Since the tail is towards the lower end of the values, it is called a negative skew (i.e., it is skewed left because the tail is pointing to the left).\n",
    "\n"
   ]
  },
  {
   "cell_type": "markdown",
   "id": "d97dd115",
   "metadata": {},
   "source": []
  }
 ],
 "metadata": {
  "kernelspec": {
   "display_name": "Python 3 (ipykernel)",
   "language": "python",
   "name": "python3"
  },
  "language_info": {
   "codemirror_mode": {
    "name": "ipython",
    "version": 3
   },
   "file_extension": ".py",
   "mimetype": "text/x-python",
   "name": "python",
   "nbconvert_exporter": "python",
   "pygments_lexer": "ipython3",
   "version": "3.9.7"
  }
 },
 "nbformat": 4,
 "nbformat_minor": 5
}
