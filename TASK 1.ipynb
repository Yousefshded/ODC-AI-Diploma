{
 "cells": [
  {
   "cell_type": "markdown",
   "id": "3fd16711",
   "metadata": {},
   "source": [
    "# what is disadvantages of OOP ?"
   ]
  },
  {
   "cell_type": "markdown",
   "id": "507a9274",
   "metadata": {},
   "source": [
    "It needs a large size  .\n",
    "It took a lot of effort to create  .\n",
    "slower than other programs   .\n",
    "Not suitable for some kinds of problems  .\n",
    "It takes time to get used to it  ."
   ]
  },
  {
   "cell_type": "markdown",
   "id": "e3f93551",
   "metadata": {},
   "source": [
    "# The difference between multi-threading and multi-core programming ?"
   ]
  },
  {
   "cell_type": "markdown",
   "id": "dfb2f13d",
   "metadata": {},
   "source": [
    "Multicore refers to a computer or processor that has more than one logical CPU core, and can execute multiple instructions at the same time. The core of a computer is the total number of cores in a computer: computers may have multiple processors, each of which may contain multiple cores; The core count is the total number of cores across all processors.\n",
    "\n",
    "\n",
    "\n",
    "Multithreading refers to a program that can take advantage of a multi-core computer by running on more than one core at the same time. In general, twice the number of cores equals twice the computing power"
   ]
  },
  {
   "cell_type": "markdown",
   "id": "3a2326db",
   "metadata": {},
   "source": [
    "# what is memoization ?"
   ]
  },
  {
   "cell_type": "markdown",
   "id": "9ec078f3",
   "metadata": {},
   "source": [
    " memoization  is an optimization technique used primarily to speed up computer programs by storing the results of expensive function calls and returning the cached result when the same inputs occur again"
   ]
  },
  {
   "cell_type": "markdown",
   "id": "35a26653",
   "metadata": {},
   "source": [
    "# what is tabulation ?"
   ]
  },
  {
   "cell_type": "markdown",
   "id": "42444af2",
   "metadata": {},
   "source": [
    "Tabulation are an organized and logical representation of numeric data in rows and columns to facilitate comparison and statistical analysis. It facilitates comparison by bringing related information closer together and helps in statistical analysis and interpretation."
   ]
  },
  {
   "cell_type": "markdown",
   "id": "e1a75bbd",
   "metadata": {},
   "source": [
    "# How to create an API in Python ?"
   ]
  },
  {
   "cell_type": "markdown",
   "id": "d7f9191f",
   "metadata": {},
   "source": [
    "There are different ways to create an API in Python, the most used being FastAPI and Flask. \n",
    "first fastAPI :\n",
    " we have to create a file in Python where we will define  API. In this file, we must create an app, where we will include the APIs, with their endpoints, parameters, etc.\n",
    "Once we have the app, that’s where we define the information that the API requires .\n",
    "FastAPI is based on starlette.\n",
    "\n",
    "\n",
    "second flask:\n",
    "in order to create an API in Python using Flask we must install the flask and flask-restful packages. Once we have the libraries installed, we have to to create our server .    "
   ]
  },
  {
   "cell_type": "markdown",
   "id": "2f560e6c",
   "metadata": {},
   "source": [
    "نقوم بتعريف API. في االملف ، يجب إنشاء تطبيق ، حيث سنقوم بتضمين واجهات برمجة التطبيقات ، مع نقاط النهاية والمعلمات الخاصة بها ، وما إلى ذلك. بمجرد أن يكون لدينا التطبيق ، هذا هو المكان الذي نحدد فيه المعلومات التي تتطلبها واجهة برمجة التطبيقات."
   ]
  },
  {
   "cell_type": "markdown",
   "id": "6b766940",
   "metadata": {},
   "source": [
    "# what is cron job ?"
   ]
  },
  {
   "cell_type": "markdown",
   "id": "1bf4e0f6",
   "metadata": {},
   "source": [
    "A cron job is a Linux command used for scheduling tasks to be executed sometime in the future. This is normally used to schedule a job that is executed periodically – for example, to send a notice every morning."
   ]
  },
  {
   "cell_type": "markdown",
   "id": "cef9d0f1",
   "metadata": {},
   "source": [
    "# MOST popular design patterns ?\n"
   ]
  },
  {
   "cell_type": "markdown",
   "id": "3856407a",
   "metadata": {},
   "source": [
    "MVC / UML model of the observer / pipe and filter "
   ]
  },
  {
   "cell_type": "markdown",
   "id": "52194af9",
   "metadata": {},
   "source": [
    "# c++ frameworks for Ai ?"
   ]
  },
  {
   "cell_type": "markdown",
   "id": "0f944c94",
   "metadata": {},
   "source": [
    "TensorFlow /  Caffe from Berkeley\n",
    "SHARK Library /OpenNN\n"
   ]
  },
  {
   "cell_type": "markdown",
   "id": "cd568220",
   "metadata": {},
   "source": [
    "# difference between database ?"
   ]
  },
  {
   "cell_type": "markdown",
   "id": "05cc3048",
   "metadata": {},
   "source": [
    "OLTP & OLAP"
   ]
  },
  {
   "cell_type": "markdown",
   "id": "45c20a82",
   "metadata": {},
   "source": [
    "# "
   ]
  },
  {
   "cell_type": "code",
   "execution_count": null,
   "id": "3722f150",
   "metadata": {},
   "outputs": [],
   "source": []
  }
 ],
 "metadata": {
  "kernelspec": {
   "display_name": "Python 3 (ipykernel)",
   "language": "python",
   "name": "python3"
  },
  "language_info": {
   "codemirror_mode": {
    "name": "ipython",
    "version": 3
   },
   "file_extension": ".py",
   "mimetype": "text/x-python",
   "name": "python",
   "nbconvert_exporter": "python",
   "pygments_lexer": "ipython3",
   "version": "3.9.7"
  }
 },
 "nbformat": 4,
 "nbformat_minor": 5
}
